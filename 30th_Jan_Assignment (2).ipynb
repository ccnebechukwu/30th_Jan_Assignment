{
 "cells": [
  {
   "cell_type": "markdown",
   "id": "64622ac6-0ae7-4b78-af31-cac9eac6c7f2",
   "metadata": {},
   "source": [
    "## DATA SCIENCE MASTERS - PW SKILLS\n",
    "\n",
    "### 30th Jan Assignment"
   ]
  },
  {
   "cell_type": "markdown",
   "id": "1aac6d05-a840-497e-b9d2-d815fb1bd7cd",
   "metadata": {},
   "source": [
    "### Question 1: Write a program to accept percentage from the user and display the grade according to the following criteria:\n",
    "\n",
    "| Marks | Grade |\n",
    "| :- | -: |\n",
    "| >90 | A |\n",
    "| :- | -: |\n",
    "| >80 and <=90 | B |\n",
    "| :- | -: |\n",
    "| >=60 and <=80 | C |\n",
    "| :- | -: |\n",
    "| Below 60 | D |\n"
   ]
  },
  {
   "cell_type": "code",
   "execution_count": 3,
   "id": "683ba955-a002-4755-965f-4a4fa7e47d5b",
   "metadata": {},
   "outputs": [
    {
     "name": "stdin",
     "output_type": "stream",
     "text": [
      "Enter your mark 62\n"
     ]
    },
    {
     "name": "stdout",
     "output_type": "stream",
     "text": [
      "Your grade is C\n"
     ]
    }
   ],
   "source": [
    "## Answer:\n",
    "\n",
    "mark = int(input(\"Enter your mark\"))\n",
    "if mark > 90:\n",
    "    print(\"Your grade is A\")\n",
    "elif mark > 80 and mark <= 90:\n",
    "    print(\"Your grade is B\")\n",
    "elif mark >= 60 and mark <= 80:\n",
    "    print(\"Your grade is C\")\n",
    "else:\n",
    "    print(\"Your grade is D\")"
   ]
  },
  {
   "cell_type": "markdown",
   "id": "b6ad2eb5-6eb2-4158-9cc5-48a6d5c34e15",
   "metadata": {},
   "source": [
    "### Question 2: Write a program to accept the cost price of a bike and display the road tax to be paid according to the following criteria:\n",
    "\n",
    "| Tax | Cost Price(in Rs)|\n",
    "| :- | -: |\n",
    "| 15% | >100000 |\n",
    "| :- | -: |\n",
    "| 10% | >50000 and <=100000 |\n",
    "| :- | -: | \n",
    "| 5% | <=50000 |\n"
   ]
  },
  {
   "cell_type": "code",
   "execution_count": 2,
   "id": "d1bbe6b1-c15b-4a9a-84a0-64710e1cfb9a",
   "metadata": {},
   "outputs": [
    {
     "name": "stdin",
     "output_type": "stream",
     "text": [
      "Enter the cost price 6000\n"
     ]
    },
    {
     "name": "stdout",
     "output_type": "stream",
     "text": [
      "Your road tax is 600.0\n"
     ]
    }
   ],
   "source": [
    "## Answer:\n",
    "\n",
    "cost_price = int(input(\"Enter the cost price\"))\n",
    "if cost_price>100000:\n",
    "    print(f\"Your road tax is {cost_price*0.15}\")\n",
    "elif cost_price >=5000 and cost_price <=100000:\n",
    "    print(f\"Your road tax is {cost_price*0.1}\")\n",
    "elif cost_price <=50000:\n",
    "    print(f\"Your road tax is {cost_price*0.05}\")\n",
    "else:\n",
    "    print(\"Thank you for paying your tax\")"
   ]
  },
  {
   "cell_type": "markdown",
   "id": "2cfb0e5b-630f-48fb-9025-81a6b18742a1",
   "metadata": {},
   "source": [
    "### Question 3: Accept any city from the user and display monuments of that city.\n",
    "\n",
    "| City | Monument |\n",
    "| :- | -: |\n",
    "| Delhi | Red Fort |\n",
    "| :- | -: |\n",
    "| Agra | Taj Mahal |\n",
    "| :- | -: |\n",
    "| Jaipur | Jal Mahal |\n"
   ]
  },
  {
   "cell_type": "code",
   "execution_count": 9,
   "id": "e73aabf1-bbff-45de-9889-73874a9d3fc2",
   "metadata": {},
   "outputs": [
    {
     "name": "stdin",
     "output_type": "stream",
     "text": [
      "Enter city here Agra\n"
     ]
    },
    {
     "name": "stdout",
     "output_type": "stream",
     "text": [
      "Available monument is Taj Mahal\n"
     ]
    }
   ],
   "source": [
    "## Answer:\n",
    "\n",
    "city = str(input(\"Enter city here\"))\n",
    "if city == \"Delhi\":\n",
    "           print(\"Available monument is Red Fort\")\n",
    "elif city == \"Agra\":\n",
    "           print(\"Available monument is Taj Mahal\")\n",
    "elif city == \"Jaipur\":\n",
    "           print(\"Available monument is Jal Mahal\")\n",
    "else:\n",
    "           print(\"Monument not found, sorry try another city.\")\n",
    "\n",
    "           "
   ]
  },
  {
   "cell_type": "markdown",
   "id": "9c882a73-cd40-4989-a2ea-e4e4790860af",
   "metadata": {},
   "source": [
    "### Question 4: Check how many times a given number can be divided by 3 before it is less than or equal to 10.\n"
   ]
  },
  {
   "cell_type": "code",
   "execution_count": 6,
   "id": "bbee3500-abc3-40ac-9efd-84aca95668b1",
   "metadata": {},
   "outputs": [
    {
     "name": "stdout",
     "output_type": "stream",
     "text": [
      "Enter a digit9\n",
      "Total number of iteration = 0\n"
     ]
    }
   ],
   "source": [
    "## Answer:\n",
    "\n",
    "count = 0\n",
    "number = int(input(\"Enter a digit\"))\n",
    "while number > 10:\n",
    "    number = number/3\n",
    "    count = count + 1\n",
    "print('Total number of iteration =', count)\n",
    "    "
   ]
  },
  {
   "cell_type": "markdown",
   "id": "158a8966",
   "metadata": {},
   "source": [
    "### Question 5: Why and when to use While Loop in python, give a detailed description with example."
   ]
  },
  {
   "cell_type": "markdown",
   "id": "56c291e9",
   "metadata": {},
   "source": [
    "## Answer:\n",
    "\n",
    "We use the While Loop:\n",
    "    \n",
    "- When we need to automate and repeat a task.\n",
    "- When the user does not know the number of iteration before execution\n",
    "- When we want to reduce the complexity of our code"
   ]
  },
  {
   "cell_type": "code",
   "execution_count": null,
   "id": "58e7c396",
   "metadata": {},
   "outputs": [],
   "source": [
    "\n",
    "#Example:\n",
    "\n",
    "digit = int(input(\"Enter a digit between 100 and 200\"))\n",
    "while digit < 100 or digit > 200:\n",
    "    print(\"Incorrect digit, enter a digit between 100 and 200\")\n",
    "    digit = int(input(\"Enter a digit between 100 and 200\"))\n",
    "else:\n",
    "    print(\"Given digit is correct: \", digit)"
   ]
  },
  {
   "cell_type": "markdown",
   "id": "c9a10f09",
   "metadata": {},
   "source": [
    "### Question 6: Use nested while loop to print 3 different patterns."
   ]
  },
  {
   "cell_type": "code",
   "execution_count": 4,
   "id": "81b09844",
   "metadata": {},
   "outputs": [
    {
     "name": "stdout",
     "output_type": "stream",
     "text": [
      "Enter number of rows 8\n",
      "* \n",
      "* * \n",
      "* * * \n",
      "* * * * \n",
      "* * * * * \n",
      "* * * * * * \n",
      "* * * * * * * \n",
      "* * * * * * * * \n"
     ]
    }
   ],
   "source": [
    "## Answer 1:\n",
    "\n",
    "triangle = int(input(\"Enter number of rows \"))\n",
    "for i in range(triangle):\n",
    "    for j in range(i+1):\n",
    "        print(\"*\", end = \" \")\n",
    "    print(\"\")\n",
    "    "
   ]
  },
  {
   "cell_type": "code",
   "execution_count": 1,
   "id": "4728582d",
   "metadata": {},
   "outputs": [
    {
     "name": "stdout",
     "output_type": "stream",
     "text": [
      "Enter number of rows 8\n",
      "* * * * * * \n",
      "* * * * * * \n",
      "* * * * * * \n",
      "* * * * * * \n",
      "* * * * * * \n",
      "* * * * * * \n",
      "* * * * * * \n",
      "* * * * * * \n"
     ]
    }
   ],
   "source": [
    "## Answer 2:\n",
    "\n",
    "rectangle = int(input(\"Enter number of rows \"))\n",
    "for i in range(rectangle):\n",
    "    for j in range(6):\n",
    "        print(\"*\", end = \" \")\n",
    "    print(\"\")"
   ]
  },
  {
   "cell_type": "code",
   "execution_count": 2,
   "id": "b5944ca5",
   "metadata": {},
   "outputs": [
    {
     "name": "stdout",
     "output_type": "stream",
     "text": [
      "Enter number of rows 8\n",
      "1  \n",
      "1 2  \n",
      "1 2 3  \n",
      "1 2 3 4  \n",
      "1 2 3 4 5  \n",
      "1 2 3 4 5 6  \n",
      "1 2 3 4 5 6 7  \n",
      "1 2 3 4 5 6 7 8  \n"
     ]
    }
   ],
   "source": [
    "## Example 3:\n",
    "\n",
    "number_row = int(input(\"Enter number of rows \"))\n",
    "for i in range(number_row):\n",
    "    for j in range(i+1):\n",
    "        print(j+1, end=\" \")\n",
    "    print(\" \")"
   ]
  },
  {
   "cell_type": "markdown",
   "id": "b479b478",
   "metadata": {},
   "source": [
    "### Question 7: Reverse a while loop to display numbers from 10 to 1"
   ]
  },
  {
   "cell_type": "code",
   "execution_count": 9,
   "id": "fcb90563",
   "metadata": {},
   "outputs": [
    {
     "name": "stdout",
     "output_type": "stream",
     "text": [
      "Enter number range to reverse 12345678901\n",
      "The reversed number is =  10987654321\n"
     ]
    }
   ],
   "source": [
    "## Answer:\n",
    "\n",
    "num = int(input(\"Enter number range to reverse \"))\n",
    "reverse = 0\n",
    "while (num>0):\n",
    "    last_digit = num % 10\n",
    "    reverse = reverse * 10 + last_digit\n",
    "    num = num//10\n",
    "print('The reversed number is = ', reverse)"
   ]
  },
  {
   "cell_type": "markdown",
   "id": "74bf6d5c",
   "metadata": {},
   "source": [
    "### Question 8: Reverse a while loop to display numbers 10 to 1"
   ]
  },
  {
   "cell_type": "code",
   "execution_count": 13,
   "id": "2ebdb7e0",
   "metadata": {},
   "outputs": [
    {
     "name": "stdout",
     "output_type": "stream",
     "text": [
      "Enter number range to reverse 12345678901\n",
      "The reversed number is =  10987654321.0\n"
     ]
    }
   ],
   "source": [
    "## Answer:\n",
    "\n",
    "num = float(input(\"Enter number range to reverse \"))\n",
    "reverse = 0\n",
    "while (num>0):\n",
    "    last_digit = num % 10\n",
    "    reverse = reverse * 10 + last_digit\n",
    "    num = num//10\n",
    "print('The reversed number is = ', reverse)"
   ]
  },
  {
   "cell_type": "code",
   "execution_count": null,
   "id": "73f56660",
   "metadata": {},
   "outputs": [],
   "source": []
  }
 ],
 "metadata": {
  "kernelspec": {
   "display_name": "Python 3",
   "language": "python",
   "name": "python3"
  },
  "language_info": {
   "codemirror_mode": {
    "name": "ipython",
    "version": 3
   },
   "file_extension": ".py",
   "mimetype": "text/x-python",
   "name": "python",
   "nbconvert_exporter": "python",
   "pygments_lexer": "ipython3",
   "version": "3.8.8"
  }
 },
 "nbformat": 4,
 "nbformat_minor": 5
}
